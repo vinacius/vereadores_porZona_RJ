{
 "cells": [
  {
   "cell_type": "markdown",
   "metadata": {},
   "source": [
    "Nesse notebook eu faço algumas explorações nos dados, gerando alguns agrupamentos."
   ]
  },
  {
   "cell_type": "code",
   "execution_count": 1,
   "metadata": {},
   "outputs": [],
   "source": [
    "# Importa as bibliotecas necessárias\n",
    "\n",
    "import csv\n",
    "import pandas as pd\n",
    "import os\n",
    "import matplotlib.pyplot as plt\n",
    "from matplotlib.widgets import Button\n",
    "from matplotlib.text import Annotation\n",
    "import seaborn as sns\n",
    "\n",
    "%matplotlib inline"
   ]
  },
  {
   "cell_type": "code",
   "execution_count": 101,
   "metadata": {},
   "outputs": [],
   "source": [
    "# Abre os arquivos e gera os respectivos DataFrames\n",
    "ver_rj = pd.read_csv(\"output/vereadores_2016_RJ.csv\", encoding=\"latin-1\")\n",
    "vr = pd.DataFrame(ver_rj)\n",
    "\n",
    "arquivo_zonas = pd.read_csv(\"src/secao_bairro.csv\")\n",
    "zn = pd.DataFrame(arquivo_zonas)"
   ]
  },
  {
   "cell_type": "code",
   "execution_count": 120,
   "metadata": {},
   "outputs": [
    {
     "data": {
      "text/html": [
       "<div>\n",
       "<style scoped>\n",
       "    .dataframe tbody tr th:only-of-type {\n",
       "        vertical-align: middle;\n",
       "    }\n",
       "\n",
       "    .dataframe tbody tr th {\n",
       "        vertical-align: top;\n",
       "    }\n",
       "\n",
       "    .dataframe thead th {\n",
       "        text-align: right;\n",
       "    }\n",
       "</style>\n",
       "<table border=\"1\" class=\"dataframe\">\n",
       "  <thead>\n",
       "    <tr style=\"text-align: right;\">\n",
       "      <th></th>\n",
       "      <th>zona</th>\n",
       "      <th>bairro</th>\n",
       "      <th>secao</th>\n",
       "      <th>eleitores</th>\n",
       "      <th>regiao</th>\n",
       "    </tr>\n",
       "  </thead>\n",
       "  <tbody>\n",
       "    <tr>\n",
       "      <th>0</th>\n",
       "      <td>1</td>\n",
       "      <td>SAUDE</td>\n",
       "      <td>15</td>\n",
       "      <td>193</td>\n",
       "      <td>CENTRO</td>\n",
       "    </tr>\n",
       "  </tbody>\n",
       "</table>\n",
       "</div>"
      ],
      "text/plain": [
       "   zona bairro  secao  eleitores  regiao\n",
       "0     1  SAUDE     15        193  CENTRO"
      ]
     },
     "execution_count": 120,
     "metadata": {},
     "output_type": "execute_result"
    }
   ],
   "source": [
    "# Variáveis contando o total de eleitores\n",
    "bairros = zn.groupby('bairro')['eleitores'].sum()\n",
    "regioes = zn.groupby('regiao')['eleitores'].sum()\n",
    "secoes = zn.groupby('secao')['eleitores'].sum()\n",
    "zonas = zn.groupby('zona')['eleitores'].sum()\n",
    "\n",
    "# Imprime amostra\n",
    "zn.head(1)"
   ]
  },
  {
   "cell_type": "code",
   "execution_count": 115,
   "metadata": {},
   "outputs": [
    {
     "data": {
      "text/plain": [
       "regiao\n",
       "ZONA NORTE       1373980\n",
       "ZONA OESTE       1350657\n",
       "ZONA SUL          575978\n",
       "JACAREPAGUA       393852\n",
       "GRANDE TIJUCA     380523\n",
       "LEOPOLDINA        328038\n",
       "CENTRO            173581\n",
       "ILHA DO GOV       170992\n",
       "BARRA             150444\n",
       "Name: eleitores, dtype: int64"
      ]
     },
     "execution_count": 115,
     "metadata": {},
     "output_type": "execute_result"
    }
   ],
   "source": [
    "regioes.sort_values(ascending=False)"
   ]
  },
  {
   "cell_type": "code",
   "execution_count": 116,
   "metadata": {},
   "outputs": [
    {
     "data": {
      "text/plain": [
       "bairro\n",
       "CAMPO GRANDE       280357\n",
       "TIJUCA             166486\n",
       "COPACABANA         147135\n",
       "SANTA CRUZ         144787\n",
       "REALENGO           141839\n",
       "                    ...  \n",
       "VILA MILITAR         1011\n",
       "PARQUE ANCHIETA       865\n",
       "TUBIACANGA            724\n",
       "JARDIM CARIOCA        249\n",
       "TOMAS COELHO          117\n",
       "Name: eleitores, Length: 162, dtype: int64"
      ]
     },
     "execution_count": 116,
     "metadata": {},
     "output_type": "execute_result"
    }
   ],
   "source": [
    "bairros.sort_values(ascending=False)"
   ]
  },
  {
   "cell_type": "code",
   "execution_count": 3,
   "metadata": {},
   "outputs": [
    {
     "data": {
      "text/html": [
       "<div>\n",
       "<style scoped>\n",
       "    .dataframe tbody tr th:only-of-type {\n",
       "        vertical-align: middle;\n",
       "    }\n",
       "\n",
       "    .dataframe tbody tr th {\n",
       "        vertical-align: top;\n",
       "    }\n",
       "\n",
       "    .dataframe thead th {\n",
       "        text-align: right;\n",
       "    }\n",
       "</style>\n",
       "<table border=\"1\" class=\"dataframe\">\n",
       "  <thead>\n",
       "    <tr style=\"text-align: right;\">\n",
       "      <th></th>\n",
       "      <th>NM_MUNICIPIO</th>\n",
       "      <th>NR_ZONA</th>\n",
       "      <th>DS_CARGO</th>\n",
       "      <th>NM_URNA_CANDIDATO</th>\n",
       "      <th>NR_PARTIDO</th>\n",
       "      <th>SG_PARTIDO</th>\n",
       "      <th>DS_SIT_TOT_TURNO</th>\n",
       "      <th>QT_VOTOS_NOMINAIS</th>\n",
       "    </tr>\n",
       "  </thead>\n",
       "  <tbody>\n",
       "    <tr>\n",
       "      <th>334</th>\n",
       "      <td>RIO DE JANEIRO</td>\n",
       "      <td>214</td>\n",
       "      <td>Vereador</td>\n",
       "      <td>TARCÍSIO MOTTA</td>\n",
       "      <td>50</td>\n",
       "      <td>PSOL</td>\n",
       "      <td>ELEITO POR QP</td>\n",
       "      <td>1594</td>\n",
       "    </tr>\n",
       "  </tbody>\n",
       "</table>\n",
       "</div>"
      ],
      "text/plain": [
       "       NM_MUNICIPIO  NR_ZONA  DS_CARGO NM_URNA_CANDIDATO  NR_PARTIDO  \\\n",
       "334  RIO DE JANEIRO      214  Vereador    TARCÍSIO MOTTA          50   \n",
       "\n",
       "    SG_PARTIDO DS_SIT_TOT_TURNO  QT_VOTOS_NOMINAIS  \n",
       "334       PSOL    ELEITO POR QP               1594  "
      ]
     },
     "execution_count": 3,
     "metadata": {},
     "output_type": "execute_result"
    }
   ],
   "source": [
    "# Filtro para separar veradores eleitos e não eleitos.\n",
    "\n",
    "# Listas que guardam as variáveis de cada tipo de situação eleitoral\n",
    "var_eleitos = ['ELEITO POR MÉDIA', 'ELEITO POR QP']\n",
    "var_nao_eleitos = ['NÃO ELEITO', 'SUPLENTE']\n",
    "\n",
    "# Resultado booleano gerado analisando se os dados das listas estão\n",
    "# ou não nas linhas do Dataframe\n",
    "if_eleitos = vr.DS_SIT_TOT_TURNO.isin(var_eleitos)\n",
    "if_nao_eleitos = vr.DS_SIT_TOT_TURNO.isin(var_nao_eleitos)\n",
    "\n",
    "# Variáveis para os filtros no Dataframe\n",
    "eleitos = vr[if_eleitos]\n",
    "nao_eleitos = vr[if_nao_eleitos]\n",
    "\n",
    "# Imprime amostra\n",
    "eleitos.head(1)"
   ]
  },
  {
   "cell_type": "code",
   "execution_count": 84,
   "metadata": {},
   "outputs": [
    {
     "name": "stdout",
     "output_type": "stream",
     "text": [
      "Candidatos concorrentes: 1606\n",
      "Candidatos eleitos: 51\n",
      "Candidatos não eleitos: 1555\n",
      "Zonas eleitorais: 97\n",
      "Partidos: 35\n",
      "Votos totais: 2663612\n",
      "\n",
      "----------------------\n",
      "\n",
      "Dentre os eleitos, os cinco MAIS votados:\n",
      "NM_URNA_CANDIDATO\n",
      "CARLOS BOLSONARO    106657\n",
      "TARCÍSIO MOTTA       90473\n",
      "CESAR MAIA           71468\n",
      "ROSA FERNANDES       57868\n",
      "MARIELLE FRANCO      46502\n",
      "Name: QT_VOTOS_NOMINAIS, dtype: int64\n",
      "\n",
      "----------------------\n",
      "\n",
      "Dentre os eleitos, os cinco MENOS votados:\n",
      "NM_URNA_CANDIDATO\n",
      "JAIR DA MENDES GOMES    8112\n",
      "ZICO BACANA             7932\n",
      "OTONI DE PAULA JR       7801\n",
      "DAVID MIRANDA           7012\n",
      "ITALO CIBA              6023\n",
      "Name: QT_VOTOS_NOMINAIS, dtype: int64\n",
      "\n",
      "----------------------\n",
      "\n",
      "Dentre NÃO os eleitos, os cinco MAIS votados:\n",
      "NM_URNA_CANDIDATO\n",
      "RENATA GUERRA       16064\n",
      "ÁTILA A. NUNES      14903\n",
      "JOÃO CABRAL         14152\n",
      "PROFESSOR UOSTON    13985\n",
      "EDSON ZANATA        13668\n",
      "Name: QT_VOTOS_NOMINAIS, dtype: int64\n",
      "\n",
      "----------------------\n",
      "\n",
      "Dentre NÃO os eleitos, os cinco MENOS votados:\n",
      "NM_URNA_CANDIDATO\n",
      "CLÁUDIA BRITO      0\n",
      "PROF. VALQUÍRIA    0\n",
      "LU PIRES           0\n",
      "CLOVIS CARDOSO     0\n",
      "ELIZÂNGELA DIAS    0\n",
      "Name: QT_VOTOS_NOMINAIS, dtype: int64\n"
     ]
    }
   ],
   "source": [
    "total_candidatos = vr.NM_URNA_CANDIDATO.nunique()\n",
    "total_eleitos = eleitos.NM_URNA_CANDIDATO.nunique()\n",
    "total_zonas = vr.NR_ZONA.nunique()\n",
    "total_partidos = vr.SG_PARTIDO.nunique()\n",
    "total_votos = vr.QT_VOTOS_NOMINAIS.sum()\n",
    "\n",
    "print('Candidatos concorrentes:', total_candidatos)\n",
    "print('Candidatos eleitos:', total_eleitos)\n",
    "print('Candidatos não eleitos:', total_candidatos - total_eleitos)\n",
    "print('Zonas eleitorais:', total_zonas)\n",
    "print('Partidos:', total_partidos)\n",
    "print('Votos totais:', total_votos)\n",
    "\n",
    "votos_cand = eleitos.groupby('NM_URNA_CANDIDATO')['QT_VOTOS_NOMINAIS'].sum()\n",
    "mais_vot = votos_cand.sort_values(ascending=False)\n",
    "\n",
    "print('\\n----------------------\\n')\n",
    "print('Dentre os eleitos, os cinco MAIS votados:')\n",
    "print(mais_vot.head())\n",
    "print('\\n----------------------\\n')\n",
    "print('Dentre os eleitos, os cinco MENOS votados:')\n",
    "print(mais_vot.tail())\n",
    "\n",
    "ne_votos_cand = nao_eleitos.groupby('NM_URNA_CANDIDATO')['QT_VOTOS_NOMINAIS'].sum()\n",
    "ne_votos_cand[ne_votos_cand.QT_VOTOS_NOMINAIS != 0]\n",
    "ne_mais_vot = ne_votos_cand.sort_values(ascending=False)\n",
    "\n",
    "print('\\n----------------------\\n')\n",
    "print('Dentre NÃO os eleitos, os cinco MAIS votados:')\n",
    "print(ne_mais_vot.head())\n",
    "print('\\n----------------------\\n')\n",
    "print('Dentre NÃO os eleitos, os cinco MENOS votados:')\n",
    "print(ne_mais_vot.tail())"
   ]
  },
  {
   "cell_type": "code",
   "execution_count": 87,
   "metadata": {},
   "outputs": [
    {
     "name": "stdout",
     "output_type": "stream",
     "text": [
      "Votos por Partido:\n",
      " SG_PARTIDO\n",
      "PMDB       442283\n",
      "PSOL       250031\n",
      "DEM        205159\n",
      "PSC        170481\n",
      "PTB        145249\n",
      "PP         125959\n",
      "PRB        125020\n",
      "PSDB       109975\n",
      "PT         101631\n",
      "PDT         93412\n",
      "PMN         92348\n",
      "PHS         87126\n",
      "SD          81674\n",
      "PSD         79789\n",
      "PTN         76229\n",
      "NOVO        73672\n",
      "PRTB        60652\n",
      "PT do B     56893\n",
      "REDE        35917\n",
      "PR          35670\n",
      "PRP         31708\n",
      "PEN         30608\n",
      "PSDC        26644\n",
      "PMB         24125\n",
      "PSB         24020\n",
      "PROS        17921\n",
      "PC do B     12304\n",
      "PTC         11540\n",
      "PPS         11341\n",
      "PSL          8633\n",
      "PV           8568\n",
      "PPL          3432\n",
      "PCB          2067\n",
      "PSTU         1382\n",
      "PCO           149\n",
      "Name: QT_VOTOS_NOMINAIS, dtype: int64\n",
      "\n",
      "----------------------\n",
      "\n",
      "Candidatos por Partido:\n",
      " SG_PARTIDO\n",
      "PHS        78\n",
      "PRP        77\n",
      "PRB        77\n",
      "DEM        77\n",
      "PTN        77\n",
      "PDT        76\n",
      "PTB        76\n",
      "PSC        75\n",
      "PMN        74\n",
      "PMB        73\n",
      "PP         70\n",
      "PSD        60\n",
      "PMDB       59\n",
      "SD         57\n",
      "PSDB       56\n",
      "PR         54\n",
      "PT do B    53\n",
      "PSDC       51\n",
      "PSOL       51\n",
      "PRTB       40\n",
      "PSB        36\n",
      "PT         36\n",
      "REDE       33\n",
      "NOVO       31\n",
      "PV         27\n",
      "PEN        25\n",
      "PTC        24\n",
      "PSL        20\n",
      "PC do B    20\n",
      "PPL        14\n",
      "PROS       12\n",
      "PPS         8\n",
      "PSTU        6\n",
      "PCO         2\n",
      "PCB         1\n",
      "Name: NM_URNA_CANDIDATO, dtype: int64\n"
     ]
    }
   ],
   "source": [
    "vp = vr.groupby('SG_PARTIDO')['QT_VOTOS_NOMINAIS'].sum()\n",
    "votos_por_partido = vp.sort_values(ascending=False)\n",
    "\n",
    "cp = vr.groupby('SG_PARTIDO')['NM_URNA_CANDIDATO'].nunique()\n",
    "cand_por_partido = cp.sort_values(ascending=False)\n",
    "\n",
    "print('Votos por Partido:\\n', votos_por_partido)\n",
    "print('\\n----------------------\\n')\n",
    "print('Candidatos por Partido:\\n', cand_por_partido)"
   ]
  },
  {
   "cell_type": "code",
   "execution_count": 43,
   "metadata": {},
   "outputs": [
    {
     "data": {
      "text/html": [
       "<div>\n",
       "<style scoped>\n",
       "    .dataframe tbody tr th:only-of-type {\n",
       "        vertical-align: middle;\n",
       "    }\n",
       "\n",
       "    .dataframe tbody tr th {\n",
       "        vertical-align: top;\n",
       "    }\n",
       "\n",
       "    .dataframe thead th {\n",
       "        text-align: right;\n",
       "    }\n",
       "</style>\n",
       "<table border=\"1\" class=\"dataframe\">\n",
       "  <thead>\n",
       "    <tr style=\"text-align: right;\">\n",
       "      <th></th>\n",
       "      <th>NM_MUNICIPIO</th>\n",
       "      <th>NR_ZONA</th>\n",
       "      <th>DS_CARGO</th>\n",
       "      <th>NR_PARTIDO</th>\n",
       "      <th>SG_PARTIDO</th>\n",
       "      <th>DS_SIT_TOT_TURNO</th>\n",
       "      <th>QT_VOTOS_NOMINAIS</th>\n",
       "    </tr>\n",
       "    <tr>\n",
       "      <th>NM_URNA_CANDIDATO</th>\n",
       "      <th></th>\n",
       "      <th></th>\n",
       "      <th></th>\n",
       "      <th></th>\n",
       "      <th></th>\n",
       "      <th></th>\n",
       "      <th></th>\n",
       "    </tr>\n",
       "  </thead>\n",
       "  <tbody>\n",
       "    <tr>\n",
       "      <th>MARIELLE FRANCO</th>\n",
       "      <td>RIO DE JANEIRO</td>\n",
       "      <td>170</td>\n",
       "      <td>Vereador</td>\n",
       "      <td>50</td>\n",
       "      <td>PSOL</td>\n",
       "      <td>ELEITO POR QP</td>\n",
       "      <td>1090</td>\n",
       "    </tr>\n",
       "    <tr>\n",
       "      <th>MARIELLE FRANCO</th>\n",
       "      <td>RIO DE JANEIRO</td>\n",
       "      <td>245</td>\n",
       "      <td>Vereador</td>\n",
       "      <td>50</td>\n",
       "      <td>PSOL</td>\n",
       "      <td>ELEITO POR QP</td>\n",
       "      <td>181</td>\n",
       "    </tr>\n",
       "    <tr>\n",
       "      <th>MARIELLE FRANCO</th>\n",
       "      <td>RIO DE JANEIRO</td>\n",
       "      <td>188</td>\n",
       "      <td>Vereador</td>\n",
       "      <td>50</td>\n",
       "      <td>PSOL</td>\n",
       "      <td>ELEITO POR QP</td>\n",
       "      <td>212</td>\n",
       "    </tr>\n",
       "    <tr>\n",
       "      <th>MARIELLE FRANCO</th>\n",
       "      <td>RIO DE JANEIRO</td>\n",
       "      <td>121</td>\n",
       "      <td>Vereador</td>\n",
       "      <td>50</td>\n",
       "      <td>PSOL</td>\n",
       "      <td>ELEITO POR QP</td>\n",
       "      <td>187</td>\n",
       "    </tr>\n",
       "    <tr>\n",
       "      <th>MARIELLE FRANCO</th>\n",
       "      <td>RIO DE JANEIRO</td>\n",
       "      <td>189</td>\n",
       "      <td>Vereador</td>\n",
       "      <td>50</td>\n",
       "      <td>PSOL</td>\n",
       "      <td>ELEITO POR QP</td>\n",
       "      <td>260</td>\n",
       "    </tr>\n",
       "  </tbody>\n",
       "</table>\n",
       "</div>"
      ],
      "text/plain": [
       "                     NM_MUNICIPIO  NR_ZONA  DS_CARGO  NR_PARTIDO SG_PARTIDO  \\\n",
       "NM_URNA_CANDIDATO                                                             \n",
       "MARIELLE FRANCO    RIO DE JANEIRO      170  Vereador          50       PSOL   \n",
       "MARIELLE FRANCO    RIO DE JANEIRO      245  Vereador          50       PSOL   \n",
       "MARIELLE FRANCO    RIO DE JANEIRO      188  Vereador          50       PSOL   \n",
       "MARIELLE FRANCO    RIO DE JANEIRO      121  Vereador          50       PSOL   \n",
       "MARIELLE FRANCO    RIO DE JANEIRO      189  Vereador          50       PSOL   \n",
       "\n",
       "                  DS_SIT_TOT_TURNO  QT_VOTOS_NOMINAIS  \n",
       "NM_URNA_CANDIDATO                                      \n",
       "MARIELLE FRANCO      ELEITO POR QP               1090  \n",
       "MARIELLE FRANCO      ELEITO POR QP                181  \n",
       "MARIELLE FRANCO      ELEITO POR QP                212  \n",
       "MARIELLE FRANCO      ELEITO POR QP                187  \n",
       "MARIELLE FRANCO      ELEITO POR QP                260  "
      ]
     },
     "execution_count": 43,
     "metadata": {},
     "output_type": "execute_result"
    }
   ],
   "source": [
    "el2 = eleitos.set_index('NM_URNA_CANDIDATO')\n",
    "el2.loc['MARIELLE FRANCO'].head()"
   ]
  },
  {
   "cell_type": "code",
   "execution_count": 5,
   "metadata": {},
   "outputs": [
    {
     "data": {
      "text/html": [
       "<div>\n",
       "<style scoped>\n",
       "    .dataframe tbody tr th:only-of-type {\n",
       "        vertical-align: middle;\n",
       "    }\n",
       "\n",
       "    .dataframe tbody tr th {\n",
       "        vertical-align: top;\n",
       "    }\n",
       "\n",
       "    .dataframe thead th {\n",
       "        text-align: right;\n",
       "    }\n",
       "</style>\n",
       "<table border=\"1\" class=\"dataframe\">\n",
       "  <thead>\n",
       "    <tr style=\"text-align: right;\">\n",
       "      <th></th>\n",
       "      <th>NM_MUNICIPIO</th>\n",
       "      <th>NR_ZONA</th>\n",
       "      <th>DS_CARGO</th>\n",
       "      <th>NM_URNA_CANDIDATO</th>\n",
       "      <th>NR_PARTIDO</th>\n",
       "      <th>SG_PARTIDO</th>\n",
       "      <th>DS_SIT_TOT_TURNO</th>\n",
       "      <th>QT_VOTOS_NOMINAIS</th>\n",
       "    </tr>\n",
       "  </thead>\n",
       "  <tbody>\n",
       "    <tr>\n",
       "      <th>6199</th>\n",
       "      <td>RIO DE JANEIRO</td>\n",
       "      <td>193</td>\n",
       "      <td>Vereador</td>\n",
       "      <td>LEONEL BRIZOLA NETO</td>\n",
       "      <td>50</td>\n",
       "      <td>PSOL</td>\n",
       "      <td>ELEITO POR MÉDIA</td>\n",
       "      <td>149</td>\n",
       "    </tr>\n",
       "    <tr>\n",
       "      <th>21208</th>\n",
       "      <td>RIO DE JANEIRO</td>\n",
       "      <td>193</td>\n",
       "      <td>Vereador</td>\n",
       "      <td>DAVID MIRANDA</td>\n",
       "      <td>50</td>\n",
       "      <td>PSOL</td>\n",
       "      <td>ELEITO POR MÉDIA</td>\n",
       "      <td>30</td>\n",
       "    </tr>\n",
       "    <tr>\n",
       "      <th>30090</th>\n",
       "      <td>RIO DE JANEIRO</td>\n",
       "      <td>193</td>\n",
       "      <td>Vereador</td>\n",
       "      <td>PAULO PINHEIRO</td>\n",
       "      <td>50</td>\n",
       "      <td>PSOL</td>\n",
       "      <td>ELEITO POR QP</td>\n",
       "      <td>41</td>\n",
       "    </tr>\n",
       "    <tr>\n",
       "      <th>120136</th>\n",
       "      <td>RIO DE JANEIRO</td>\n",
       "      <td>193</td>\n",
       "      <td>Vereador</td>\n",
       "      <td>RENATO CINCO</td>\n",
       "      <td>50</td>\n",
       "      <td>PSOL</td>\n",
       "      <td>ELEITO POR QP</td>\n",
       "      <td>52</td>\n",
       "    </tr>\n",
       "    <tr>\n",
       "      <th>127389</th>\n",
       "      <td>RIO DE JANEIRO</td>\n",
       "      <td>193</td>\n",
       "      <td>Vereador</td>\n",
       "      <td>TARCÍSIO MOTTA</td>\n",
       "      <td>50</td>\n",
       "      <td>PSOL</td>\n",
       "      <td>ELEITO POR QP</td>\n",
       "      <td>329</td>\n",
       "    </tr>\n",
       "    <tr>\n",
       "      <th>152373</th>\n",
       "      <td>RIO DE JANEIRO</td>\n",
       "      <td>193</td>\n",
       "      <td>Vereador</td>\n",
       "      <td>MARIELLE FRANCO</td>\n",
       "      <td>50</td>\n",
       "      <td>PSOL</td>\n",
       "      <td>ELEITO POR QP</td>\n",
       "      <td>191</td>\n",
       "    </tr>\n",
       "  </tbody>\n",
       "</table>\n",
       "</div>"
      ],
      "text/plain": [
       "          NM_MUNICIPIO  NR_ZONA  DS_CARGO    NM_URNA_CANDIDATO  NR_PARTIDO  \\\n",
       "6199    RIO DE JANEIRO      193  Vereador  LEONEL BRIZOLA NETO          50   \n",
       "21208   RIO DE JANEIRO      193  Vereador        DAVID MIRANDA          50   \n",
       "30090   RIO DE JANEIRO      193  Vereador       PAULO PINHEIRO          50   \n",
       "120136  RIO DE JANEIRO      193  Vereador         RENATO CINCO          50   \n",
       "127389  RIO DE JANEIRO      193  Vereador       TARCÍSIO MOTTA          50   \n",
       "152373  RIO DE JANEIRO      193  Vereador      MARIELLE FRANCO          50   \n",
       "\n",
       "       SG_PARTIDO  DS_SIT_TOT_TURNO  QT_VOTOS_NOMINAIS  \n",
       "6199         PSOL  ELEITO POR MÉDIA                149  \n",
       "21208        PSOL  ELEITO POR MÉDIA                 30  \n",
       "30090        PSOL     ELEITO POR QP                 41  \n",
       "120136       PSOL     ELEITO POR QP                 52  \n",
       "127389       PSOL     ELEITO POR QP                329  \n",
       "152373       PSOL     ELEITO POR QP                191  "
      ]
     },
     "execution_count": 5,
     "metadata": {},
     "output_type": "execute_result"
    }
   ],
   "source": [
    "# Filtro partido por Zona Eleitoral\n",
    "voto_zona = eleitos.SG_PARTIDO.isin(['PSOL'])\n",
    "vz_total = eleitos[voto_zona]\n",
    "\n",
    "benfica = vz_total[vz_total['NR_ZONA'] == 193]\n",
    "benfica"
   ]
  },
  {
   "cell_type": "code",
   "execution_count": 6,
   "metadata": {},
   "outputs": [
    {
     "data": {
      "text/plain": [
       "<matplotlib.collections.PathCollection at 0x193f699e7b8>"
      ]
     },
     "execution_count": 6,
     "metadata": {},
     "output_type": "execute_result"
    },
    {
     "data": {
      "image/png": "[encoded data removed]",
      "text/plain": [
       "<Figure size 432x288 with 1 Axes>"
      ]
     },
     "metadata": {},
     "output_type": "display_data"
    }
   ],
   "source": [
    "candidato = eleitos.NM_URNA_CANDIDATO.isin(['MARIELLE FRANCO'])\n",
    "cand = eleitos[candidato]\n",
    "\n",
    "#vz_total[vz_total['QT_VOTOS_NOMINAIS'] > 2000]\n",
    "\n",
    "\n",
    "plt.scatter(cand.NR_ZONA, cand.QT_VOTOS_NOMINAIS, color='b')"
   ]
  },
  {
   "cell_type": "code",
   "execution_count": 7,
   "metadata": {},
   "outputs": [
    {
     "data": {
      "text/plain": [
       "Text(0.5, 1.0, 'Votos por Zona - Eleitos')"
      ]
     },
     "execution_count": 7,
     "metadata": {},
     "output_type": "execute_result"
    },
    {
     "data": {
      "image/png": "[encoded data removed]",
      "text/plain": [
       "<Figure size 432x288 with 1 Axes>"
      ]
     },
     "metadata": {},
     "output_type": "display_data"
    }
   ],
   "source": [
    "# Votos por Zona - eleitos\n",
    "plt.scatter(eleitos.QT_VOTOS_NOMINAIS, eleitos.NR_ZONA,\n",
    "            c='#06975e', edgecolors='#FFFFFF')\n",
    "plt.xlabel('Votos')\n",
    "plt.ylabel('Zonas Eleitorais')\n",
    "plt.title('Votos por Zona - Eleitos')"
   ]
  },
  {
   "cell_type": "code",
   "execution_count": 8,
   "metadata": {},
   "outputs": [
    {
     "data": {
      "text/plain": [
       "NM_MUNICIPIO         155782\n",
       "NR_ZONA              155782\n",
       "DS_CARGO             155782\n",
       "NM_URNA_CANDIDATO    155782\n",
       "NR_PARTIDO           155782\n",
       "SG_PARTIDO           155782\n",
       "DS_SIT_TOT_TURNO     155782\n",
       "QT_VOTOS_NOMINAIS    155782\n",
       "dtype: int64"
      ]
     },
     "execution_count": 8,
     "metadata": {},
     "output_type": "execute_result"
    },
    {
     "data": {
      "image/png": "[encoded data removed]",
      "text/plain": [
       "<Figure size 432x288 with 1 Axes>"
      ]
     },
     "metadata": {},
     "output_type": "display_data"
    }
   ],
   "source": [
    "# Votos por Zona - não eleitos\n",
    "plt.scatter(nao_eleitos.QT_VOTOS_NOMINAIS, nao_eleitos.NR_ZONA)\n",
    "plt.xlabel('Votos')\n",
    "plt.ylabel('Zonas Eleitorais')\n",
    "plt.title('Votos por Zona - Geral')\n",
    "\n",
    "vr.count()"
   ]
  },
  {
   "cell_type": "code",
   "execution_count": null,
   "metadata": {},
   "outputs": [],
   "source": []
  }
 ],
 "metadata": {
  "kernelspec": {
   "display_name": "Python 3",
   "language": "python",
   "name": "python3"
  },
  "language_info": {
   "codemirror_mode": {
    "name": "ipython",
    "version": 3
   },
   "file_extension": ".py",
   "mimetype": "text/x-python",
   "name": "python",
   "nbconvert_exporter": "python",
   "pygments_lexer": "ipython3",
   "version": "3.6.5"
  }
 },
 "nbformat": 4,
 "nbformat_minor": 2
}
