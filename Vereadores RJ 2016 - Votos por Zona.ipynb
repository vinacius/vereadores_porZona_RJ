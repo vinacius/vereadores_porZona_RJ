{
 "cells": [
  {
   "cell_type": "markdown",
   "metadata": {},
   "source": [
    "## Vereadores mais votados do município do Rio de Janeiro por zona\n",
    "\n",
    "Esse programa lê o banco de dados do TSE para votações estaduais de 2016 e seleciona os vereadores de um determinado município, filtrando apenas as variáveis desejadas, e gera um novo arquivo *.csv*.\n",
    "\n",
    "Esses dados podem ser encontrados no repositório de dados eleitorais do TSE:\n",
    "**http://www.tse.jus.br/eleicoes/estatisticas/repositorio-de-dados-eleitorais-1/repositorio-de-dados-eleitorais**\n",
    "\n",
    "A lista de zonas eleitorais do Estado do Rio por bairro pode ser encontrada no site do TRE:\n",
    "http://www.tre-rj.jus.br/site/eleicoes/2016/arquivos/porBairroZon.xls"
   ]
  },
  {
   "cell_type": "code",
   "execution_count": 1,
   "metadata": {},
   "outputs": [],
   "source": [
    "# Importa os dados dos candidatos do estado do Rio em 2016.\n",
    "# Inicialmente são 30 as variáveis no banco de dados para cada linha.\n",
    "\n",
    "import csv\n",
    "import pandas as pd\n",
    "import os"
   ]
  },
  {
   "cell_type": "code",
   "execution_count": 2,
   "metadata": {},
   "outputs": [],
   "source": [
    "# Define como delimitador o ponto e vírgula\n",
    "# Sem isso o Python lê a linha inteira do CSV com um índice único numa lista\n",
    "csv.register_dialect('pVirgula', delimiter=';')\n",
    "csv.register_dialect('virgula', delimiter=',')\n",
    "\n",
    "# Importa os dados dos candidatos do estado do Rio em 2016\n",
    "with open ('src/votacao_candidato_munzona_2016_RJ.csv', 'r', encoding=\"latin-1\") as vot_f:\n",
    "    leitor = csv.reader(vot_f, dialect='pVirgula')\n",
    "    dados = list(leitor)\n"
   ]
  },
  {
   "cell_type": "code",
   "execution_count": 3,
   "metadata": {},
   "outputs": [],
   "source": [
    "# lista com os rótulos dos dados\n",
    "cols = ['DT_GERACAO', 'HH_GERACAO', 'ANO_ELEICAO', 'CD_TIPO_ELEICAO', \n",
    "           'NM_TIPO_ELEICAO', 'NR_TURNO', 'CD_ELEICAO', 'DS_ELEICAO', \n",
    "           'DT_ELEICAO', 'TP_ABRANGENCIA', 'SG_UF', 'SG_UE', 'NM_UE',\n",
    "           'CD_MUNICIPIO', 'NM_MUNICIPIO', 'NR_ZONA', 'CD_CARGO', 'DS_CARGO',\n",
    "           'SQ_CANDIDATO', 'NR_CANDIDATO', 'NM_CANDIDATO', 'NM_URNA_CANDIDATO',\n",
    "           'NM_SOCIAL_CANDIDATO', 'CD_SITUACAO_CANDIDATURA', \n",
    "           'DS_SITUACAO_CANDIDATURA', 'CD_DETALHE_SITUACAO_CAND', \n",
    "           'DS_DETALHE_SITUACAO_CAND', 'TP_AGREMIACAO', 'NR_PARTIDO', \n",
    "           'SG_PARTIDO', 'NM_PARTIDO', 'SQ_COLIGACAO', 'NM_COLIGACAO', \n",
    "           'DS_COMPOSICAO_COLIGACAO', 'CD_SIT_TOT_TURNO', 'DS_SIT_TOT_TURNO', \n",
    "           'ST_VOTO_EM_TRANSITO', 'QT_VOTOS_NOMINAIS']\n",
    "\n",
    "drop_cols = ['DT_GERACAO', 'HH_GERACAO', 'ANO_ELEICAO', 'CD_TIPO_ELEICAO',\n",
    "         'NM_TIPO_ELEICAO', 'NR_TURNO', 'CD_ELEICAO', 'DS_ELEICAO',\n",
    "         'DT_ELEICAO', 'TP_ABRANGENCIA', 'SG_UF', 'SG_UE', 'NM_UE',\n",
    "         'CD_MUNICIPIO','CD_CARGO', 'SQ_CANDIDATO', 'NR_CANDIDATO',\n",
    "         'NM_CANDIDATO', 'NM_SOCIAL_CANDIDATO', 'CD_SITUACAO_CANDIDATURA',\n",
    "         'DS_SITUACAO_CANDIDATURA', 'CD_DETALHE_SITUACAO_CAND',\n",
    "         'DS_DETALHE_SITUACAO_CAND', 'TP_AGREMIACAO', 'NM_PARTIDO',\n",
    "         'SQ_COLIGACAO', 'NM_COLIGACAO', 'DS_COMPOSICAO_COLIGACAO',\n",
    "         'CD_SIT_TOT_TURNO',  'ST_VOTO_EM_TRANSITO']\n",
    "\n",
    "# Lista vazia para receber os candidatos\n",
    "rows = []\n",
    "\n",
    "# Loop para selecionar apenas os candidatos a vereador do município do rio\n",
    "# que foram eleitos\n",
    "for linhas in dados:\n",
    "    if linhas[14] == \"RIO DE JANEIRO\" and linhas[17] == \"Vereador\" and linhas[35] != \"SUPLENTE\" and linhas[35] != \"NÃO ELEITO\":\n",
    "        rows.append(linhas)\n",
    "    else:\n",
    "        continue\n",
    "\n",
    "# Utilizando o Pandas, adiciona os rótulos das colunas e exclui as\n",
    "# colunas indesejadas\n",
    "ver = pd.DataFrame(rows)\n",
    "ver.columns = cols\n",
    "ver.drop(drop_cols, axis=1, inplace=True)"
   ]
  },
  {
   "cell_type": "code",
   "execution_count": 4,
   "metadata": {},
   "outputs": [],
   "source": [
    "# Experimentações de análises com Pandas\n",
    "# zonas = ver.groupby(['NR_ZONA']).count()\n",
    "# zona = ver.loc[ver['NR_ZONA'] == '1']\n",
    "\n",
    "# zona.sort_values(['QT_VOTOS_NOMINAIS'], ascending=True)"
   ]
  },
  {
   "cell_type": "code",
   "execution_count": 5,
   "metadata": {},
   "outputs": [],
   "source": [
    "# Salva os vereadores selecionados em um novo arquivo .csv via biblioteca csv\n",
    "with open('src/ver1_votacao_filtro_munzona_2016_RJ.csv', 'w', encoding='latin-1', newline='') as novo_arquivo:\n",
    "    escreve = csv.writer(novo_arquivo, dialect='pVirgula')\n",
    "    escreve.writerows(ver)\n",
    "\n",
    "novo_arquivo.close()\n",
    "vot_f.close()\n",
    "\n",
    "# Salva os vereadores selecionados em um novo arquivo .csv via Pandas\n",
    "exportar_csv = ver.to_csv(r'src\\ver2_votacao_filtro_munzona_2016_RJ.csv', encoding='latin-1', index=None, header=True)"
   ]
  },
  {
   "cell_type": "code",
   "execution_count": 6,
   "metadata": {},
   "outputs": [],
   "source": []
  }
 ],
 "metadata": {
  "kernelspec": {
   "display_name": "Python 3",
   "language": "python",
   "name": "python3"
  },
  "language_info": {
   "codemirror_mode": {
    "name": "ipython",
    "version": 3
   },
   "file_extension": ".py",
   "mimetype": "text/x-python",
   "name": "python",
   "nbconvert_exporter": "python",
   "pygments_lexer": "ipython3",
   "version": "3.6.5"
  }
 },
 "nbformat": 4,
 "nbformat_minor": 2
}
