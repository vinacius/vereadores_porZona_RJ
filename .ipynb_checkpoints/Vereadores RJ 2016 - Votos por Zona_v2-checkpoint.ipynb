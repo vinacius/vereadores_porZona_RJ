{
 "cells": [
  {
   "cell_type": "markdown",
   "metadata": {},
   "source": [
    "## Vereadores mais votados do município do Rio de Janeiro por zona\n",
    "\n",
    "Esse programa lê o banco de dados oferecido pelo TSE para votações estaduais e seleciona os vereadores de um determinado município, filtrando apenas as variáveis desejadas, e gera um novo arquivo *.csv*.\n",
    "\n",
    "Esses dados podem ser encontrados no repositório de dados eleitorais do TSE:\n",
    "**http://www.tse.jus.br/eleicoes/estatisticas/repositorio-de-dados-eleitorais-1/repositorio-de-dados-eleitorais**\n",
    "\n",
    "Originalmente, esses arquivos são disponibilizados pelo TSE no formato *.txt*. No arquivo *.csv* usado aqui, adicionei na primeira linha os nomes das variáveis como o TSE descreve no LEIAME de cada banco de dados.\n",
    "\n"
   ]
  },
  {
   "cell_type": "code",
   "execution_count": 1,
   "metadata": {},
   "outputs": [
    {
     "name": "stdout",
     "output_type": "stream",
     "text": [
      "Tamanho inicial dos dados: 214753\n",
      "Exemplo de linha inicial: \n",
      "['08/07/2018', '20:38:09', '2016', '1', 'ELEIÇÕES MUNICIPAIS 2016', 'RJ', '58009', '58009', 'QUISSAMÃ', '255', '11', '28', '1,9E+11', 'DJAMIM FERREIRA DE SOUZA', 'DJAMIM FERREIRA', 'PREFEITO', '12', 'APTO', '2', 'DEFERIDO', '4', 'NÃO ELEITO', '28', 'PRTB', 'Partido Renovador Trabalhista Brasileiro', '1,9E+11', 'LIBERTA QUISSAMÃ', 'PRTB / PRP', '367', 'N']\n",
      "\n"
     ]
    }
   ],
   "source": [
    "# Importa os dados dos candidatos do estado do Rio em 2016.\n",
    "# Inicialmente são 30 as variáveis no banco de dados para cada linha.\n",
    "\n",
    "import csv\n",
    "\n",
    "# Define como delimitador o ponto e vírgula\n",
    "# Sem isso o Python lê a linha inteira do CSV com um índice único numa lista\n",
    "csv.register_dialect('pVirgula', delimiter=';')\n",
    "csv.register_dialect('virgula', delimiter=',')\n",
    "\n",
    "# Importa os dados dos candidatos do estado do Rio em 2016\n",
    "with open ('votacao_candidato_munzona_2016_RJ.csv', 'r', encoding=\"latin-1\") as vot_f:\n",
    "    leitor = csv.reader(vot_f, dialect='pVirgula')\n",
    "    dados = list(leitor)\n",
    "\n",
    "print(\"Tamanho inicial dos dados: \" + str(len(dados)))\n",
    "print(\"Exemplo de linha inicial: \\n\" + str(dados[1]) + \"\\n\")\n"
   ]
  },
  {
   "cell_type": "code",
   "execution_count": 2,
   "metadata": {},
   "outputs": [
    {
     "name": "stdout",
     "output_type": "stream",
     "text": [
      "Exemplo de linha de vereador: \n",
      "['08/07/2018', '20:38:09', '2016', '1', 'ELEIÇÕES MUNICIPAIS 2016', 'RJ', '60011', '60011', 'RIO DE JANEIRO', '1', '13', '50133', '1,9E+11', 'ALAN DE OLIVEIRA MACHADO', 'ALAN MACHADO', 'VEREADOR', '12', 'APTO', '2', 'DEFERIDO', '5', 'SUPLENTE', '50', 'PSOL', 'Partido Socialismo e Liberdade', '1,9E+11', 'MUDAR É POSSÍVEL', 'PSOL / PCB', '3', 'N']\n",
      "\n"
     ]
    }
   ],
   "source": [
    "# Lista vazia para receber os candidatos\n",
    "vereadores = []\n",
    "\n",
    "# Loop para selecionar apenas os candidatos a vereador do muniípio do rio\n",
    "for linhas in dados:\n",
    "    if linhas[8] == \"RIO DE JANEIRO\" and linhas[15] == \"VEREADOR\":\n",
    "        vereadores.append(linhas)\n",
    "    else:\n",
    "        continue\n",
    "\n",
    "print(\"Exemplo de linha de vereador: \\n\" + str(vereadores[0]) + \"\\n\")"
   ]
  },
  {
   "cell_type": "code",
   "execution_count": 3,
   "metadata": {
    "scrolled": true
   },
   "outputs": [
    {
     "name": "stdout",
     "output_type": "stream",
     "text": [
      "Exemplo final de linha:\n",
      "[Zona, Número, Nome, Cargo, Sit_Cand, Sit_Cand_Tot, Num_Partido, Partido, Coligação, Votos]\n",
      "['1', '50133', 'ALAN MACHADO', 'VEREADOR', 'APTO', 'DEFERIDO', 'SUPLENTE', '50', 'PSOL', 'PSOL / PCB', '3']\n",
      "Tamanho final dos dados: 155782\n"
     ]
    }
   ],
   "source": [
    "# Remove das linhas as variáveis desnecessárias\n",
    "# Ainda não encontrei método melhor para retirar items em ordem diferente da lista\n",
    "for linhas in vereadores:\n",
    "    del linhas[0:9]\n",
    "    del linhas[1]\n",
    "    del linhas[2:4]\n",
    "    del linhas[4]\n",
    "    del linhas[5]\n",
    "    del linhas[6]\n",
    "    del linhas[9:12]\n",
    "    del linhas[-1]\n",
    "\n",
    "print(\"Exemplo final de linha:\\n[Zona, Número, Nome, Cargo, Sit_Cand, Sit_Cand_Tot, Num_Partido, Partido, Coligação, Votos]\" + \"\\n\" + str(vereadores[0]))\n",
    "print(\"Tamanho final dos dados: \" + str(len(vereadores)))\n",
    "\n",
    "vot_f.close()"
   ]
  },
  {
   "cell_type": "code",
   "execution_count": 4,
   "metadata": {},
   "outputs": [],
   "source": [
    "#Lista com os títulos originais das variáveis selecionadas\n",
    "#titulos = ['\"NUMERO_ZONA\";\"NUMERO_CAND\";\"NOME_CANDIDATO\";\"DESCRICAO_CARGO\";\"DESC_SIT_CAND_SUPERIOR\";\"DESC_SIT_CANDIDATO\";\"NUM_PARTIDO\";\"SIGLA_PARTIDO\";\"NOME_COLIGACAO\";\"TOTAL_VOTOS\"']\n",
    "titulos = [\"NUMERO_ZONA;NUMERO_CAND;NOME_CANDIDATO;DESCRICAO_CARGO;DESC_SIT_CAND_SUPERIOR;DESC_SIT_CANDIDATO;NUM_PARTIDO;SIGLA_PARTIDO;NOME_COLIGACAO;TOTAL_VOTOS\"]\n",
    "\n",
    "#Salva os vereadores selecionados em um novo arquivo .csv\n",
    "with open('votacao_filtro_munzona_2016_RJ.csv', 'w', encoding='latin-1', newline='') as novo_arquivo:\n",
    "    escreve = csv.writer(novo_arquivo, dialect='pVirgula')\n",
    "    escreve.writerows([titulos])\n",
    "    escreve.writerows(vereadores)\n",
    "\n",
    "novo_arquivo.close()"
   ]
  },
  {
   "cell_type": "code",
   "execution_count": null,
   "metadata": {},
   "outputs": [],
   "source": []
  },
  {
   "cell_type": "code",
   "execution_count": null,
   "metadata": {},
   "outputs": [],
   "source": []
  }
 ],
 "metadata": {
  "kernelspec": {
   "display_name": "Python 3",
   "language": "python",
   "name": "python3"
  },
  "language_info": {
   "codemirror_mode": {
    "name": "ipython",
    "version": 3
   },
   "file_extension": ".py",
   "mimetype": "text/x-python",
   "name": "python",
   "nbconvert_exporter": "python",
   "pygments_lexer": "ipython3",
   "version": "3.6.5"
  }
 },
 "nbformat": 4,
 "nbformat_minor": 2
}
