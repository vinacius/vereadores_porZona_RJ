{
 "cells": [
  {
   "cell_type": "code",
   "execution_count": null,
   "metadata": {},
   "outputs": [],
   "source": [
    "#lendo o arquivo, criando linhas\n",
    "with open('lista_zonas_eleitorais.csv', 'r') as ze_f:\n",
    "        data = ze_f.read()\n",
    "        linhas = data.split('\\n')\n",
    "\n",
    "zonas = []\n",
    "\n",
    "#criando as colunas\n",
    "for linha in linhas:\n",
    "    div_linha = linha.split(\",\")\n",
    "    zonas.append(div_linha)\n",
    "\n",
    "print(zonas)\n",
    "\n",
    "\n",
    "    \n",
    "        \n",
    "    "
   ]
  },
  {
   "cell_type": "code",
   "execution_count": null,
   "metadata": {},
   "outputs": [],
   "source": [
    "import csv\n",
    "import pandas as pd\n",
    "import numpy as np\n",
    "import matplotlib.pyplot as plt\n",
    "%matplotlib inline\n",
    "\n",
    "with open ('lista_zonas_eleitorais.csv', 'r') as ze_f:\n",
    "    leitor = csv.reader(ze_f)\n",
    "    dados = list(leitor)    \n",
    "    print(dados[0])\n",
    "    print(len(dados))\n",
    "zonas_mun = []\n",
    "outros = []\n",
    "    \n",
    "for linhas in dados:\n",
    "    linhas.pop(1)\n",
    "    linhas.pop(5)\n",
    "    linhas.pop(2)\n",
    "\n",
    "    if linhas[3] == \"RIO DE JANEIRO\":\n",
    "        zonas_mun.append(linhas)\n",
    "    else:\n",
    "        outros.append(linhas)\n",
    "\n",
    "#lista_zonas = pd.Series(zonas_mun[0], index=[\"Zona\", \"Endereco\", \"Bairro\", \"Municipio\"])\n",
    "\n",
    "df = pd.DataFrame(zonas_mun)\n",
    "\n",
    "print(outros[0])\n",
    "print(zonas_mun[0])\n",
    "print(len(zonas_mun))"
   ]
  },
  {
   "cell_type": "code",
   "execution_count": 2,
   "metadata": {},
   "outputs": [],
   "source": [
    "# Importa os dados dos candidatos do estado do Rio em 2016.\n",
    "# Inicialmente são 30 as variáveis no banco de dados para cada linha."
   ]
  },
  {
   "cell_type": "code",
   "execution_count": 39,
   "metadata": {},
   "outputs": [
    {
     "name": "stdout",
     "output_type": "stream",
     "text": [
      "Tamanho inicial dos dados: 214752\n",
      "Exemplo de linha inicial: \n",
      "['08/07/2018', '20:38:09', '2016', '1', 'ELEIÇÕES MUNICIPAIS 2016', 'RJ', '58009', '58009', 'QUISSAMÃ', '255', '11', '28', '190000009055', 'DJAMIM FERREIRA DE SOUZA', 'DJAMIM FERREIRA', 'PREFEITO', '12', 'APTO', '2', 'DEFERIDO', '4', 'NÃO ELEITO', '28', 'PRTB', 'Partido Renovador Trabalhista Brasileiro', '190000000401', 'LIBERTA QUISSAMÃ', 'PRTB / PRP', '367', 'N']\n",
      "\n",
      "Exemplo de linha de vereador: \n",
      "['08/07/2018', '20:38:09', '2016', '1', 'ELEIÇÕES MUNICIPAIS 2016', 'RJ', '60011', '60011', 'RIO DE JANEIRO', '1', '13', '50133', '190000003386', 'ALAN DE OLIVEIRA MACHADO', 'ALAN MACHADO', 'VEREADOR', '12', 'APTO', '2', 'DEFERIDO', '5', 'SUPLENTE', '50', 'PSOL', 'Partido Socialismo e Liberdade', '190000000101', 'MUDAR É POSSÍVEL', 'PSOL / PCB', '3', 'N']\n",
      "\n",
      "Exemplo final de linha:\n",
      "[Zona, Número, Nome, Cargo, Sit_Cand, Sit_Cand_Tot, Num_Partido, Partido, Coligação, Votos]\n",
      "['1', '50133', 'ALAN MACHADO', 'VEREADOR', 'APTO', 'DEFERIDO', 'SUPLENTE', '50', 'PSOL', 'PSOL / PCB', '3']\n",
      "Tamanho final dos dados: 155782\n"
     ]
    }
   ],
   "source": [
    "import csv\n",
    "import pandas as pd\n",
    "\n",
    "# Define como delimitador o ponto e vírgula\n",
    "# Sem isso o Python lê a linha inteira do CSV com um índice único numa lista\n",
    "csv.register_dialect('pVirgula', delimiter=';')\n",
    "\n",
    "# Importa os dados dos candidatos do estado do Rio em 2016\n",
    "with open ('votacao_candidato_munzona_2016_RJ.csv', 'r', encoding=\"latin-1\") as vot_f:\n",
    "    leitor = csv.reader(vot_f, dialect='pVirgula')\n",
    "    dados = list(leitor)\n",
    "    print(\"Tamanho inicial dos dados: \" + str(len(dados)))\n",
    "    print(\"Exemplo de linha inicial: \\n\" + str(dados[0]) + \"\\n\")\n",
    "    \n",
    "# Lista vazia para receber os candidatos\n",
    "vereadores = []\n",
    "\n",
    "# Loop para selecionar apenas os candidatos a vereador do muniípio do rio\n",
    "for linhas in dados:\n",
    "    if linhas[8] == \"RIO DE JANEIRO\" and linhas[15] == \"VEREADOR\":\n",
    "        vereadores.append(linhas)\n",
    "    else:\n",
    "        continue\n",
    "\n",
    "print(\"Exemplo de linha de vereador: \\n\" + str(vereadores[0]) + \"\\n\")\n",
    "\n",
    "# Remove das linhas as variáveis desnecessárias\n",
    "# Ainda não encontrei método melhor para retirar items em ordem diferente da lista\n",
    "for linhas in vereadores:\n",
    "    del linhas[0:9]\n",
    "    del linhas[1]\n",
    "    del linhas[2:4]\n",
    "    del linhas[4]\n",
    "    del linhas[5]\n",
    "    del linhas[6]\n",
    "    del linhas[9:12]\n",
    "    del linhas[-1]\n",
    "    \n",
    "\n",
    "print(\"Exemplo final de linha:\\n[Zona, Número, Nome, Cargo, Sit_Cand, Sit_Cand_Tot, Num_Partido, Partido, Coligação, Votos]\" + \"\\n\" + str(vereadores[0]))\n",
    "print(\"Tamanho final dos dados: \" + str(len(vereadores)))\n"
   ]
  },
  {
   "cell_type": "code",
   "execution_count": null,
   "metadata": {
    "scrolled": true
   },
   "outputs": [],
   "source": []
  }
 ],
 "metadata": {
  "kernelspec": {
   "display_name": "Python 3",
   "language": "python",
   "name": "python3"
  },
  "language_info": {
   "codemirror_mode": {
    "name": "ipython",
    "version": 3
   },
   "file_extension": ".py",
   "mimetype": "text/x-python",
   "name": "python",
   "nbconvert_exporter": "python",
   "pygments_lexer": "ipython3",
   "version": "3.6.5"
  }
 },
 "nbformat": 4,
 "nbformat_minor": 2
}
