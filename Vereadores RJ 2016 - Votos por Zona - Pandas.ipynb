{
 "cells": [
  {
   "cell_type": "markdown",
   "metadata": {},
   "source": [
    "## Vereadores mais votados do município do Rio de Janeiro por zona\n",
    "\n",
    "Esse programa lê o banco de dados oferecido pelo TSE para votações estaduais e seleciona os vereadores de um determinado município, filtrando apenas as variáveis desejadas.\n",
    "\n",
    "Esses dados podem ser encontrados no repositório de dados eleitorais do TSE:\n",
    "**http://www.tse.jus.br/eleicoes/estatisticas/repositorio-de-dados-eleitorais-1/repositorio-de-dados-eleitorais**\n",
    "\n",
    "Originalmente, esses arquivos são disponibilizados pelo TSE no formato *.txt*. No arquivo . *csv* usado aqui, adicionei na primeira linha os nomes das variáveis como o TSE descreve no LEIAME de cada banco de dados.\n",
    "\n",
    "\n"
   ]
  },
  {
   "cell_type": "code",
   "execution_count": null,
   "metadata": {
    "scrolled": true
   },
   "outputs": [],
   "source": [
    "import csv\n",
    "import pandas as pd\n",
    "\n",
    "# Importa os dados dos candidatos do estado do Rio em 2016\n",
    "df = pd.read_csv('votacao_candidato_munzona_2016_RJ.csv', encoding='latin-1', delimiter=';')\n",
    "\n",
    "\n",
    "df[\"TOTAL_VOTOS\"].plot.hist()"
   ]
  },
  {
   "cell_type": "code",
   "execution_count": null,
   "metadata": {},
   "outputs": [],
   "source": []
  }
 ],
 "metadata": {
  "kernelspec": {
   "display_name": "Python 3",
   "language": "python",
   "name": "python3"
  },
  "language_info": {
   "codemirror_mode": {
    "name": "ipython",
    "version": 3
   },
   "file_extension": ".py",
   "mimetype": "text/x-python",
   "name": "python",
   "nbconvert_exporter": "python",
   "pygments_lexer": "ipython3",
   "version": "3.6.5"
  }
 },
 "nbformat": 4,
 "nbformat_minor": 2
}
